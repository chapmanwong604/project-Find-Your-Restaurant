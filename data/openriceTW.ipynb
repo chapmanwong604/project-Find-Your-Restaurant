{
 "cells": [
  {
   "cell_type": "code",
   "execution_count": 13,
   "metadata": {},
   "outputs": [],
   "source": [
    "import requests\n",
    "import json\n",
    "import pandas as pd"
   ]
  },
  {
   "cell_type": "code",
   "execution_count": 14,
   "metadata": {},
   "outputs": [],
   "source": [
    "r = requests.get(\"https://www.openrice.com/api/pois?uiLang=zh&uiCity=hongkong&page=2&&sortBy=Default&districtId=3018\")"
   ]
  },
  {
   "cell_type": "code",
   "execution_count": 15,
   "metadata": {},
   "outputs": [
    {
     "data": {
      "text/plain": [
       "'<!DOCTYPE HTML PUBLIC \"-//IETF//DTD HTML 2.0//EN\">\\r\\n<html>\\r\\n<head><title>502 Bad Gateway</title></head>\\r\\n<body>\\r\\n<center><h1>502 Bad Gateway</h1></center>\\r\\n<hr/>Powered by Tengine<hr><center>tengine</center>\\r\\n</body>\\r\\n</html>\\r\\n'"
      ]
     },
     "execution_count": 15,
     "metadata": {},
     "output_type": "execute_result"
    }
   ],
   "source": [
    "r.text"
   ]
  },
  {
   "cell_type": "code",
   "execution_count": 16,
   "metadata": {},
   "outputs": [],
   "source": [
    "url = \"https://www.openrice.com/api/pois\"\n",
    "\n",
    "querystring = {\"uiLang\":\"zh\",\"uiCity\":\"hongkong\",\"page\":\"1\",\"sortBy\":\"Default\",\"districtId\":\"3018\",\"\":\"\"}\n",
    "\n",
    "payload = \"\"\n",
    "headers = {\n",
    "    'cookie': \"_gcl_au=1.1.794071381.1653987655; __gads=ID=4fc7e0e050238831:T=1653987651:S=ALNI_MYslNPa9jBBBicebbVqeJSBLDn_Pw; webhash=e93409c9-10ab-4bab-b26b-a94bd437bf0f; isguest=1; _fbp=fb.1.1653987655464.325703516; CookiesAgreed=agreed; _gid=GA1.2.1114779826.1654237216; __utmc=183676536; __gpi=UID=0000060ab0306d96:T=1653987651:RT=1654237215:S=ALNI_MayzWBHeER5HmK_wcHtkoJzCSbJhA; DefaultRegionIds=^%^7B^%^22hk^%^22^%^3A0^%^7D; RegionId=0; autha=deBfPbxexu8c1JZWc7G9aWuVJ2SQxZR8RhWBq2ikqCXMF92GlsjSFly3-h-r9F9TNdUiAjvsFOwOiMRPwybv3_j8GjbTEx7ggSNBnqJVQ1v2V8S0NtdsJQlYHefG62HVhacl3dmDVT8ospB1hWYobZ1ZCYeyGPKUpU4ZdHvYZzblY6q04aJrnee5r2Qwg1ezFaB4mbdE4vF5A-iYp5ffiGupa2I2ugmwaJ6K7VUk_Qav2pvaBuBPEofBU4uiHPRgKhho4ZY1inRxLA3Jci8a4Y2j-T-hy2UdDrrez4LTX3a37KF7-801pK_XZIKTyc8VsXA8G_X52GkvlBs7RDvuM1r4YYhNUt3pQFBGvt9Rnc9zCniKhB0lMFxXHN-aIDo2PKaIiIkEO9igDWdUsnKF8Yvr-BXcYZqM54-Q-VmdqR7dJ_ZJmR5xTA5w7VGgqrKqheqH9g; authr=LR2yRlXVILT-l4fcirPlAskcnAx-qeb0yxj5XtgzPrnru7EAey_5SKQSwN4M2IgKGulq5ZRNEDWIWtcC2OOXLtgJKNKqj2iSOij8CxdqDdGRzAhQ_xKVZGIP3iqlTFwk74Ni9b3kvzrXMeb7aHEIy-fwNvcS4SL06Bdnlad8vaAHsuVh5p9eG9yOFeglbZXFB_6GJWJSN2ZpGfIIVXBSzlymiZExRFTcBXjq470QVVuSl6sEjvSlKrzh_N0WPhULckTecLOyVg3avEmT8czHL9d7jPhmBn1ZAOtfsKsZSGcLGIO_dBLPZRdZG6Beqhs-yM6Z5Z3L98tiVl1RtG1G-yv5rvXm_0VyRr81np0iS3eJkZCmh4PouD03f_7vVG2jMi1wI6aLdHIrzXOhk11DeCbLmDJqVlIScGejvS8gH66RPzWivbqCF_J3J1bBnGvCE5iZ6w; authe=qHbCd2R/Q7vdCCOR0LryzL5tvEIt5JZiM/ScE7iVdZyMHT5m168IEIzCmB9yb9337rF9F8yhXOxOH4Vbcch2U/xTyNuqH77nuzKI7Ass5FM=; acw_tc=0bc1599a16542398967985492eda7dae370c24d85246fc435cd20365140cd3; __utmz=183676536.1654239901.3.2.utmcsr=cms.tecky.io^|utmccn=(referral)^|utmcmd=referral^|utmcct=/; __utmt_UA-652541-1=1; __utma=183676536.738955081.1653987655.1654237216.1654239900.3; __utmb=183676536.1.10.1654239901; _ga_WM2DLEGHYP=GS1.1.1654239900.4.0.1654239900.0; _ga=GA1.1.738955081.1653987655\",\n",
    "    'authority': \"www.openrice.com\",\n",
    "    'accept': \"application/json, text/javascript, */*; q=0.01\",\n",
    "    'accept-language': \"zh-TW,zh;q=0.9,en-US;q=0.8,en;q=0.7\",\n",
    "    'referer': \"https://www.openrice.com/zh/hongkong/restaurants/district/^%^E5^%^B1^%^B1^%^E9^%^A0^%^82\",\n",
    "    'sec-ch-ua': \"^\\^\",\n",
    "    'x-requested-with': \"XMLHttpRequest\",\n",
    "    'User-Agent': \"Mozilla/5.0 (Windows NT 10.0; Win64; x64) AppleWebKit/537.36 (KHTML, like Gecko) Chrome/102.0.5005.63 Safari/537.36\"\n",
    "    }\n",
    "\n",
    "response = requests.request(\"GET\", url, data=payload, headers=headers, params=querystring)\n"
   ]
  },
  {
   "cell_type": "code",
   "execution_count": 17,
   "metadata": {},
   "outputs": [],
   "source": [
    "data = json.loads(response.text)"
   ]
  },
  {
   "cell_type": "code",
   "execution_count": 18,
   "metadata": {},
   "outputs": [],
   "source": [
    "df = pd.DataFrame(data[\"searchResult\"][\"paginationResult\"][\"results\"])"
   ]
  },
  {
   "cell_type": "code",
   "execution_count": 19,
   "metadata": {},
   "outputs": [],
   "source": [
    "import math\n",
    "for i in range (math.ceil(data[\"searchResult\"][\"paginationResult\"][\"count\"]/15)-1) :\n",
    "    querystring[\"page\"] = str(i+2)\n",
    "    response = requests.request(\"GET\", url, data=payload, headers=headers, params=querystring)\n",
    "    data = json.loads(response.text)\n",
    "    df = pd.concat ([df,pd.DataFrame(data[\"searchResult\"][\"paginationResult\"][\"results\"])],ignore_index=True)"
   ]
  },
  {
   "cell_type": "code",
   "execution_count": 20,
   "metadata": {},
   "outputs": [],
   "source": [
    "df.to_csv(\"openrice_tw.csv\")"
   ]
  }
 ],
 "metadata": {
  "interpreter": {
   "hash": "7a27b758c23c3289eec5c1725620493c487a9a1125d2e262cc2d8e513c55022f"
  },
  "kernelspec": {
   "display_name": "Python 3.9.13 ('myenv': venv)",
   "language": "python",
   "name": "python3"
  },
  "language_info": {
   "codemirror_mode": {
    "name": "ipython",
    "version": 3
   },
   "file_extension": ".py",
   "mimetype": "text/x-python",
   "name": "python",
   "nbconvert_exporter": "python",
   "pygments_lexer": "ipython3",
   "version": "3.9.13"
  },
  "orig_nbformat": 4
 },
 "nbformat": 4,
 "nbformat_minor": 2
}
